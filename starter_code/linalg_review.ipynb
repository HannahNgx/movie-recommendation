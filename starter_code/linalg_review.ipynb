{
 "cells": [
  {
   "cell_type": "markdown",
   "metadata": {},
   "source": [
    "# Linear Algebra Review"
   ]
  },
  {
   "cell_type": "code",
   "execution_count": null,
   "metadata": {},
   "outputs": [],
   "source": [
    "import numpy as np"
   ]
  },
  {
   "cell_type": "markdown",
   "metadata": {},
   "source": [
    "## Motivation\n",
    "The average person predominantly works with single-number values every day: \n",
    "- It costs **$5** to purchase Boba (I don't know if this is realistic) \n",
    "- The Diag is **500** feet from Weiser Hall\n",
    "\n",
    "However as data scientists, we often find ourselves looking at collections of numbers:\n",
    "- The temperature over the past 5 days is $[32, 24, 10, 41, 33]$ degrees Fahrenheit\n",
    "- The frequency of model predictions is $\\begin{bmatrix}160 & 32\\\\16 & 132\\end{bmatrix}$\n",
    "\n",
    "Linear algebra provides us tools to handle these types of data by defining mathematical objects called **vectors** and **matrices**!"
   ]
  },
  {
   "cell_type": "markdown",
   "metadata": {},
   "source": [
    "## Vectors"
   ]
  },
  {
   "cell_type": "markdown",
   "metadata": {},
   "source": [
    "### Definition\n",
    "A **vector** is *basically* an array of numbers organized together. For example, we can express a vector of 4 elements as \n",
    "$$\\begin{bmatrix}1.5\\\\1.6\\\\-4.2\\\\0\\end{bmatrix}$$\n",
    "formally called a **column vector**.\n",
    "\n",
    "Examples:\n",
    "- Sachchit's ratings for 3 movies are $\\begin{bmatrix}5\\\\2\\\\4\\end{bmatrix}$\n",
    "- The direction in which I am moving is $\\begin{bmatrix}1&3&-\\frac{2}{3}\\end{bmatrix}$\n",
    "    - In this case, a **row vector** is used to represent the data\n",
    "\n",
    "In Numpy, a vector can be created using the `np.array` class"
   ]
  },
  {
   "cell_type": "code",
   "execution_count": null,
   "metadata": {},
   "outputs": [],
   "source": [
    "vec = np.array([5,2,4])\n",
    "print(vec)\n",
    "print(f\"Shape: {vec.shape}\")"
   ]
  },
  {
   "cell_type": "markdown",
   "metadata": {},
   "source": [
    "Just like a regular python list, you can index into the vector using the bracket operator"
   ]
  },
  {
   "cell_type": "code",
   "execution_count": null,
   "metadata": {},
   "outputs": [],
   "source": [
    "print(vec[0])"
   ]
  },
  {
   "cell_type": "markdown",
   "metadata": {},
   "source": [
    "Numpy also allows us to create special vectors that are used commonly, such as a matrix of all zeros or a matrix of all ones"
   ]
  },
  {
   "cell_type": "code",
   "execution_count": null,
   "metadata": {},
   "outputs": [],
   "source": [
    "zeros = np.zeros((5,))\n",
    "ones = np.ones((3,))\n",
    "print(zeros)\n",
    "print(ones)"
   ]
  },
  {
   "cell_type": "markdown",
   "metadata": {},
   "source": [
    "**Exercise**: Create a numpy vector holding your ratings for these subjects on a scale 1-5:\n",
    "- Physics\n",
    "- Computer Science\n",
    "- English\n",
    "- Music\n",
    "- Statistics\n",
    "in this exact order (i.e. - your rating for Physics should appear in the first index of the vector)"
   ]
  },
  {
   "cell_type": "code",
   "execution_count": null,
   "metadata": {},
   "outputs": [],
   "source": [
    "# your code here!\n",
    "pass"
   ]
  },
  {
   "cell_type": "markdown",
   "metadata": {},
   "source": [
    "### Vector Operations\n",
    "\n",
    "You might've noticed thus far that vectors aren't too different from arrays. However, unlike arrays, vectors can be combined and mutated in a couple of different ways"
   ]
  },
  {
   "cell_type": "markdown",
   "metadata": {},
   "source": [
    "#### Vector Addition\n",
    "Two vectors can be added elementwise to produce a new vector of the same size. For example,\n",
    "\n",
    "$$\\begin{bmatrix}1\\\\0\\\\-3\\\\2\\end{bmatrix} + \\begin{bmatrix}-4\\\\1\\\\3\\\\5\\end{bmatrix} = \\begin{bmatrix}1-4\\\\0+1\\\\-3+3\\\\2+5\\end{bmatrix} = \\begin{bmatrix}-3\\\\1\\\\0\\\\7\\end{bmatrix}$$\n",
    "\n",
    "Notice that this means that **two vectors can be added if and only if they are the same size**."
   ]
  },
  {
   "cell_type": "markdown",
   "metadata": {},
   "source": [
    "In Numpy, we can just use the regular old Python `+` operation to add two vectors"
   ]
  },
  {
   "cell_type": "code",
   "execution_count": null,
   "metadata": {},
   "outputs": [],
   "source": [
    "vec1, vec2 = np.array([1,0,-3,2]), np.array([-4,1,3,5])\n",
    "output = vec1 + vec2\n",
    "print(output)"
   ]
  },
  {
   "cell_type": "markdown",
   "metadata": {},
   "source": [
    "As expected, if our vectors are different sizes, Numpy throws an error."
   ]
  },
  {
   "cell_type": "code",
   "execution_count": null,
   "metadata": {},
   "outputs": [],
   "source": [
    "try:\n",
    "    vec1, vec2 = np.array([1,0,-3,2,4]), np.array([-4,1,3,5])\n",
    "    output = vec1 + vec2\n",
    "    print(output)\n",
    "except ValueError as e:\n",
    "    print(f\"Error thrown! {e}\")"
   ]
  },
  {
   "cell_type": "markdown",
   "metadata": {},
   "source": [
    "#### Scalar Multiplication\n",
    "The elements of a vector can be multiplied by a single scalar (non-vector) value as well, called **scalar multiplication**. For example,\n",
    "For example,\n",
    "\n",
    "$$\\frac{1}{2} \\cdot \\begin{bmatrix}-6\\\\8\\\\-3\\\\6\\end{bmatrix} = \\begin{bmatrix}\\frac{1}{2} * -6\\\\\\frac{1}{2}*8\\\\\\frac{1}{2}*-3\\\\\\frac{1}{2}*6\\end{bmatrix} = \\begin{bmatrix}-3\\\\4\\\\-1.5\\\\3\\end{bmatrix}$$\n"
   ]
  },
  {
   "cell_type": "markdown",
   "metadata": {},
   "source": [
    "In numpy, just as before, we can use the regular `*` operator to multiply a vector by a scalar:"
   ]
  },
  {
   "cell_type": "code",
   "execution_count": null,
   "metadata": {},
   "outputs": [],
   "source": [
    "vec3 = np.array([-6,8,-3,6])\n",
    "output = 0.5 * vec3\n",
    "print(output)"
   ]
  },
  {
   "cell_type": "markdown",
   "metadata": {},
   "source": [
    "#### Elementwise Multiplication & Division\n",
    "While there exists no mathematical definition for multiplying two vectors elementwise, numpy and other numerical libraries often allow this operation. In formal notation, this could look like:\n",
    "\n",
    "$$\\begin{bmatrix}1\\\\0\\end{bmatrix} / \\begin{bmatrix}5\\\\-2432.3\\end{bmatrix} = \\begin{bmatrix}1/5\\\\0/-2432.2\\end{bmatrix} = \\begin{bmatrix}0.2\\\\0\\end{bmatrix}$$\n"
   ]
  },
  {
   "cell_type": "markdown",
   "metadata": {},
   "source": [
    "In numpy, again we can use the `*` and `/` division operatior to achieve these operations. **Both vectors must be of the same size in order for this operation to be valid**"
   ]
  },
  {
   "cell_type": "code",
   "execution_count": null,
   "metadata": {},
   "outputs": [],
   "source": [
    "vec1 = np.array([-6,8,-3])\n",
    "vec2 = np.array([4,-2, 1])\n",
    "multiplication = vec1 * vec2\n",
    "division = vec1 / vec2\n",
    "print(multiplication)\n",
    "print(division)"
   ]
  },
  {
   "cell_type": "markdown",
   "metadata": {},
   "source": [
    "#### Challenge Exercise\n",
    "We have the input vector \n",
    "\n",
    "$$\\begin{bmatrix}1&2&3&\\dots&100\\end{bmatrix}$$\n",
    "\n",
    "which has 100 entries. Transform this vector into\n",
    "\n",
    "$$\\begin{bmatrix}\\frac{-26}{\\pi}&\\frac{-25}{\\pi}&\\frac{-24}{\\pi}&\\dots&\\frac{73}{\\pi}\\end{bmatrix}$$\n",
    "\n",
    "using vector addition, elementwise multiplication/division, and scalar division.\n",
    "\n",
    "*Hint*: `np.ones()` from before might be useful here"
   ]
  },
  {
   "cell_type": "code",
   "execution_count": null,
   "metadata": {},
   "outputs": [],
   "source": [
    "input = np.array([i+1 for i in range(100)])\n",
    "# your code here!"
   ]
  },
  {
   "cell_type": "markdown",
   "metadata": {},
   "source": [
    "#### Dot Product\n",
    "One of the most useful vector operations is the **dot product** (also called the scalar product). This operation takes two vectors and produces a scalar value. Formally, suppose we have vectors $$\\vec{u} = \\begin{bmatrix}u_1&u_2&\\dots&u_n\\end{bmatrix}, \\vec{v} = \\begin{bmatrix}v_1&v_2&\\dots&v_n\\end{bmatrix}$$\n",
    "where importantly both $\\vec{u}$ and $\\vec{v}$ are the same size. Then the dot product is defined as\n",
    "$$\\vec{u} \\cdot \\vec{v} = u_1v_1 + u_2v_2 + \\dots + u_nv_n$$\n",
    "\n",
    "Example: Take vectors $\\vec{u} = [1,2,3], \\vec{v} = [4,5,6]$. Their dot product is $\\vec{u}\\cdot\\vec{v} = 1*4 + 2*5 + 3*6 = 4 + 10 + 18 = 32$"
   ]
  },
  {
   "cell_type": "markdown",
   "metadata": {},
   "source": [
    "In Numpy, we want to use the `np.dot` function to perform a dot product."
   ]
  },
  {
   "cell_type": "code",
   "execution_count": null,
   "metadata": {},
   "outputs": [],
   "source": [
    "vec1, vec2 = np.array([1,2,3]), np.array([4,5,6])\n",
    "output = np.dot(vec1, vec2)\n",
    "output2 = vec1.dot(vec2) # this is an equivalent way of computing the dot product\n",
    "print(output)\n",
    "print(output2)"
   ]
  },
  {
   "cell_type": "markdown",
   "metadata": {},
   "source": [
    "## Matrices"
   ]
  },
  {
   "cell_type": "markdown",
   "metadata": {},
   "source": [
    "We now have the capability to work with vectors. However, vectors are still limited in that we can only work with a single axis, like an array. It would be useful to have multiple axes to work with.\n",
    "\n",
    "More generally, in cases in which the information we are working has more than one axis along with values can vary (like a table), we introduce the notion of a **matrix**:\n",
    "$$\\begin{bmatrix}1&2&3\\\\4&5&6\\\\7&8&9\\end{bmatrix}$$"
   ]
  },
  {
   "cell_type": "markdown",
   "metadata": {},
   "source": [
    "Notice how there are now two axes on which we can store information. This will be pretty useful in this project. For example, suppose that we have a matrix for which\n",
    "- Each row represents a user in our dataset\n",
    "- Each column represents a movie in our dataset\n",
    "\n",
    "Then we could use each entry in the matrix to represent the rating a user gave a movie\n",
    "For example, given the matrix $$R = \\begin{bmatrix}0.5&5&4\\\\1&4&3\\\\2&3.5&2\\\\5&4.5&5\\end{bmatrix}$$\n",
    "we could say that \n",
    "- user 2 gave item 2 a rating of 4\n",
    "- user 3 gave item 1 a rating of 4\n",
    "\n",
    "Some important notation to know:\n",
    "- we say that matrix $R$ has size $4 \\times 3$ as it has 4 rows and 3 columns\n",
    "- the entry $r_{ij}$ refers to the value found in the $i^{\\text{th}}$ row and $j^{\\text{th}}$ column. Above, this means $r_{12} = 5$ and $r_{33} = 2$."
   ]
  },
  {
   "cell_type": "markdown",
   "metadata": {},
   "source": [
    "In Numpy, we can create a matrix similarly to a vector by passing along a 2D matrix which holds all of our values to `np.array`:"
   ]
  },
  {
   "cell_type": "code",
   "execution_count": null,
   "metadata": {},
   "outputs": [],
   "source": [
    "mat = np.array([[0.5,5,4], [1,4,3], [2,3.5,2], [5,4.5,5]])\n",
    "print(mat)\n",
    "print(f\"Shape: {mat.shape}\")"
   ]
  },
  {
   "cell_type": "markdown",
   "metadata": {},
   "source": [
    "As before, Numpy also allows use to create a few special matrices using special functions:"
   ]
  },
  {
   "cell_type": "code",
   "execution_count": null,
   "metadata": {},
   "outputs": [],
   "source": [
    "# Creates a matrix of zeros of size 5 by 4\n",
    "zeros = np.zeros((5, 4))\n",
    "print(f\"Zeros: \\n{zeros}\")\n",
    "# Creates a matrix of zeros of size 2 by 7\n",
    "ones = np.ones((2, 7))\n",
    "print(f\"Ones: \\n{ones}\")\n",
    "# Create a 3 by 3 identity matrix - a matrix which has all zeros except along the diagonal, where the entries are 1\n",
    "identity = np.eye(4)\n",
    "print(f\"Identity: \\n{identity}\")\n",
    "# Creates a matrix of random floats drawn from a standard normal distribution (basically a bell curve)\n",
    "random_values = np.random.randn(5,3)\n",
    "print(f\"Random:\\n{random_values}\")"
   ]
  },
  {
   "cell_type": "markdown",
   "metadata": {},
   "source": [
    "### Slicing, Indexing, and Assignment\n",
    "For reference, lets bring back our original rating matrix.\n",
    "\n",
    "$$R = \\begin{bmatrix}0.5&5&4\\\\1&4&3\\\\2&3.5&2\\\\5&4.5&5\\end{bmatrix}$$\n",
    "\n",
    "To access single entries in a matrix, we only have to use a single bracket operator and separate our indices with commas."
   ]
  },
  {
   "cell_type": "code",
   "execution_count": null,
   "metadata": {},
   "outputs": [],
   "source": [
    "# Prints the entry in the 3rd row in the 3rd column\n",
    "print(mat[2,2])"
   ]
  },
  {
   "cell_type": "markdown",
   "metadata": {},
   "source": [
    "However, Numpy provides much more powerful indexing operations that allow us to select more complex sets of values. Suppose you want to access every value in the 3rd column. We can do so by specifying `:` as the index for the rows. This tells Numpy to select all rows."
   ]
  },
  {
   "cell_type": "code",
   "execution_count": null,
   "metadata": {},
   "outputs": [],
   "source": [
    "# prints every single entry in the 3rd column\n",
    "print(mat[:,2])"
   ]
  },
  {
   "cell_type": "markdown",
   "metadata": {},
   "source": [
    "Formally, `:` is called the slicing operator, which you may have used in python before to slice lists. Luckily, the same intution works with Numpy matrices and vectors as well. Any slicing operation is of the form: \n",
    "```python\n",
    "start:stop:step\n",
    "```\n",
    "where\n",
    "- `start` is the starting index of the slice (inclusive). If omitted, the slice will start from index 0.\n",
    "- `stop` is the ending index of the slice (exclusive). If omitted, the slice will gather all remaining entries\n",
    "- `step` is the step size of the slice - how far we move before gathering new entries"
   ]
  },
  {
   "cell_type": "markdown",
   "metadata": {},
   "source": [
    "For example, the slice $R[0:4:2,1:]$ will select every entry in $R$ on the even indexed rows (zero-index wise) and in final two columns"
   ]
  },
  {
   "cell_type": "code",
   "execution_count": null,
   "metadata": {},
   "outputs": [],
   "source": [
    "print(mat[0:4:2,1:])"
   ]
  },
  {
   "cell_type": "markdown",
   "metadata": {},
   "source": [
    "We can also assign values to slicing by simply using the assignment operator. For example, if we want to set all values in the 4th row to be 0, we can do"
   ]
  },
  {
   "cell_type": "code",
   "execution_count": null,
   "metadata": {},
   "outputs": [],
   "source": [
    "mat[3,:] = 0\n",
    "print(mat)"
   ]
  },
  {
   "cell_type": "markdown",
   "metadata": {},
   "source": [
    "You can also assign matrices/vectors of values to slices, but you need to be careful that the shape of the matrix matches the shape of the slice. For example, if we want to change the ratings matrix from $$\\begin{bmatrix}0.5&5&4\\\\1&4&3\\\\2&3.5&2\\\\5&4.5&5\\end{bmatrix} \\to \\begin{bmatrix}\\textbf{-1}&5&\\textbf{-2}\\\\1&4&3\\\\\\textbf{-3}&3.5&\\textbf{-4}\\\\5&4.5&5\\end{bmatrix}$$\n",
    "We can perform the following operation"
   ]
  },
  {
   "cell_type": "code",
   "execution_count": null,
   "metadata": {},
   "outputs": [],
   "source": [
    "mat[::2,::2] = np.array([[-1,-2],[-3,-4]])\n",
    "print(mat)"
   ]
  },
  {
   "cell_type": "markdown",
   "metadata": {},
   "source": [
    "The set of values we assign to the slice are a 2x2 matrix as the slice produces a 2x2 matrix itself!"
   ]
  },
  {
   "cell_type": "code",
   "execution_count": null,
   "metadata": {},
   "outputs": [],
   "source": [
    "print(mat[::2,::2])"
   ]
  },
  {
   "cell_type": "markdown",
   "metadata": {},
   "source": [
    "#### Challenge Exercise\n",
    "Given matrix $$A = \\begin{bmatrix}1&2&3&4\\\\5&6&7&8\\\\9&10&11&12\\\\13&14&15&16\\end{bmatrix}$$\n",
    "mutate it so that\n",
    "- the third column has only -1\n",
    "- the odd indexed rows (zero-index wise) have zeros\n",
    "- the entries in even indexed columns and rows are assigned the value 9001"
   ]
  },
  {
   "cell_type": "code",
   "execution_count": null,
   "metadata": {},
   "outputs": [],
   "source": [
    "input = np.array([[1,2,3,4],[5,6,7,8],[9,10,11,12],[13,14,15,16]])\n",
    "# your code here"
   ]
  },
  {
   "cell_type": "markdown",
   "metadata": {},
   "source": [
    "Slicing can be challenging, but if you can master it, manipulating matrices will become much, much easier. If you want to learn more or still feel shaky with slicing, check out [the official Numpy Slicing and Indexing tutorial](https://numpy.org/doc/stable/user/absolute_beginners.html#indexing-and-slicing)."
   ]
  },
  {
   "cell_type": "markdown",
   "metadata": {},
   "source": [
    "### Matrix Operations"
   ]
  },
  {
   "cell_type": "markdown",
   "metadata": {},
   "source": [
    "#### Elementwise operations\n",
    "Just like with vectors, we can perform elementwise addition, subtraction, multiplication, and division with numpy matrices. As before, the matrices must have the same shape (same number of columns and rows). Here are some examples:"
   ]
  },
  {
   "cell_type": "code",
   "execution_count": null,
   "metadata": {},
   "outputs": [],
   "source": [
    "mat1 = np.array([[1,2,3],[4,5,6]])\n",
    "mat2 = np.array([[-1,0,1],[2,3,-2]])\n",
    "print(f\"Matrix One:\\n{mat1}\")\n",
    "print(f\"Matrix Two:\\n{mat2}\")\n",
    "# Matrix Addition\n",
    "print(f\"Addition:\\n{mat1 + mat2}\")\n",
    "# Matrix Subtraction\n",
    "print(f\"Subtraction:\\n{mat1 - mat2}\")\n",
    "# Scalar Multiplication\n",
    "print(f\"Multiplication by pi:\\n{np.pi * mat1}\")\n",
    "# Divide entries of one matrix by another\n",
    "print(f\"Division by each other:\\n{mat2/mat1}\")"
   ]
  },
  {
   "cell_type": "markdown",
   "metadata": {},
   "source": [
    "#### Matrix Multiplication\n",
    "This is by far the most important operation we will discuss today. Suppose we have two matrices:\n",
    "$$A =\\begin{bmatrix}1&2&3\\\\4&0&1\\end{bmatrix}, B =\\begin{bmatrix}-6&3\\\\2&-1\\\\4&1\\end{bmatrix}$$\n",
    "Then $C = AB$ is another matrix whose entries are\n",
    "$$C = \\begin{bmatrix}1&2&3\\\\4&0&1\\end{bmatrix} \\times \\begin{bmatrix}-6&3\\\\2&-1\\\\4&1\\end{bmatrix} = \\begin{bmatrix}1*-6+2*2+3*4&1*3+2*-1+3*1\\\\4*-6+0*2+1*4*1&4*3+0*-1+1*1\\end{bmatrix} = \\begin{bmatrix}10&4\\\\-20&13\\end{bmatrix}$$"
   ]
  },
  {
   "cell_type": "markdown",
   "metadata": {},
   "source": [
    "Wait, what just happened?\n",
    "- The entry $C_{ij}$ is exactly the dot product of the $i^{\\text{th}}$ row of $A$ and the $j^{\\text{th}}$ column of $B$ \n",
    "- This requires that the number of entries in each row of $A$ = the number of entries in each column of $B$\n",
    "- The output matrix only has size $2\\times 2$!"
   ]
  },
  {
   "cell_type": "markdown",
   "metadata": {},
   "source": [
    "We can generalize this matrix multiplication operation: \n",
    "\n",
    "Suppose we have two matrices $U \\in \\mathbb{R}^{n \\times k}$ and $V \\in \\mathbb{R}^{k \\times m}$ (informally, the notation $Q \\in \\mathbb{R}^{n \\times k}$ specifies that our matrix $Q$ has $n$ rows and $k$ columns), where, $$U = \\begin{bmatrix}\n",
    "        \\text{---} & \\vec{u}_1 & \\text{---} \\\\\n",
    "        \\text{---} & \\vec{u}_2  & \\text{---}\\\\\n",
    "        & \\vdots & \\\\\n",
    "        \\text{---} & \\vec{u}_k  & \\text{---} \\\\\n",
    "    \\end{bmatrix}, V = \\begin{bmatrix}\n",
    "        \\vert & \\vert & \\dots & \\vert \\\\\n",
    "        \\vec{v}_1 & \\vec{v}_2 & \\dots & \\vec{v}_k\\\\\n",
    "        \\vert & \\vert & \\dots & \\vert \\\\\n",
    "    \\end{bmatrix}$$\n",
    "(This notation just means that we represent each row/column of the matrix using a vector - this is alright recalling that vectors just represent a single axis set of numbers).\n",
    "Then the matrix product $R = UV$ is $$\\begin{bmatrix}\n",
    "         r_{11} & r_{12} & \\dots & r_{1m}\\\\\n",
    "         r_{21} & r_{22} & \\dots & r_{2m}\\\\\n",
    "         \\vdots & \\vdots & \\ddots & \\vdots\\\\\n",
    "         r_{n1} & r_{n2} & \\dots & r_{nm}\\\\\n",
    "     \\end{bmatrix} = \\begin{bmatrix}\n",
    "         \\vec{u}_1 \\cdot \\vec{v}_1 & \\vec{u}_1 \\cdot \\vec{v}_2 & \\dots & \\vec{u}_1 \\cdot \\vec{v}_m\\\\\n",
    "         \\vec{u}_2 \\cdot \\vec{v}_1 & \\vec{u}_2 \\cdot \\vec{v}_2 & \\dots & \\vec{u}_2 \\cdot \\vec{v}_m\\\\\n",
    "         \\vdots & \\vdots & \\ddots & \\vdots\\\\\n",
    "         \\vec{u}_n \\cdot \\vec{v}_1 & \\vec{u}_n \\cdot \\vec{v}_2 & \\dots & \\vec{u}_n \\cdot \\vec{v}_m\\\\\n",
    "     \\end{bmatrix}$$"
   ]
  },
  {
   "cell_type": "markdown",
   "metadata": {},
   "source": [
    "In Numpy, we can use the `np.matmul` function to multiply two matrices together. Again, you have to be careful that the shapes of the matrices match the inner dimension, otherwise we cannot multiply them together. "
   ]
  },
  {
   "cell_type": "code",
   "execution_count": null,
   "metadata": {},
   "outputs": [],
   "source": [
    "mat1 = np.array([[1,2,3],[4,0,1]])\n",
    "mat2 = np.array([[-6,3],[2,-1],[4,1]])\n",
    "product = np.matmul(mat1, mat2)\n",
    "print(product)"
   ]
  },
  {
   "cell_type": "markdown",
   "metadata": {},
   "source": [
    "Alternatively, you can use the `@` symbol to multiply two matrices together."
   ]
  },
  {
   "cell_type": "code",
   "execution_count": null,
   "metadata": {},
   "outputs": [],
   "source": [
    "print(mat1 @ mat2)"
   ]
  },
  {
   "cell_type": "markdown",
   "metadata": {},
   "source": [
    "If the sizes of the matrices don't match on the inner dimension (same number of columns in $A$ as number of rows in $B$), Numpy will throw an error"
   ]
  },
  {
   "cell_type": "code",
   "execution_count": null,
   "metadata": {},
   "outputs": [],
   "source": [
    "try:\n",
    "    mat3 = np.array([[1,2,3],[4,0,1]])\n",
    "    product  = mat1 @ mat3\n",
    "except ValueError as e:\n",
    "    print(f\"Error thrown: {e}\")"
   ]
  },
  {
   "cell_type": "markdown",
   "metadata": {},
   "source": [
    "Why are matrix multiplications so useful? Aside from their mathematical context (which is basically an entire linear algebra course), matrix multiplications are fast! \n",
    "\n",
    "Python is usually implemented as an interpreted* language, meaning that when we run a Python program, we really instead run a C program which reads our Python code and tells our computer what to do. While this design choice allows Python to be used on any machine in a variety of contexts, it also makes Python a little slower. For most applications, this slow down is not even noticeable compared to the ease of setup and use. However, in data science, we work with hundreds of thousands (if not billions) of data entries, and in these cases, Python sometimes isn't fast enough for us manage that level of data. This\n",
    "\n",
    "Libraries like Scikit-Learn, Scipy, and Numpy get around this by using fancy tricks that precompile some of its code to C to make its execution faster. One of these possible operations is the matrix multiplication. For this reason, we want to use as many matrix multiplications as possible to make our code as fast as possible.\n",
    "\n",
    "For example, suppose we have a set of vectors $$\\vec{a} = \\begin{bmatrix}1&0&1\\end{bmatrix}, \\vec{b} = \\begin{bmatrix}0&-1&2\\end{bmatrix}, \\vec{c} = \\begin{bmatrix}3&2&-4\\end{bmatrix}$$\n",
    "and we want to compute the dot product between each of these vectors and the vector $\\vec{q} = \\begin{bmatrix}-1&3&5\\end{bmatrix}$. We could simply loop through $a,b,c$ and take their dot product one by one."
   ]
  },
  {
   "cell_type": "code",
   "execution_count": null,
   "metadata": {},
   "outputs": [],
   "source": [
    "a = np.array([1,0,1])\n",
    "b = np.array([0,-1,2])\n",
    "c = np.array([3,2,-4])\n",
    "q = np.array([-1,3,5])\n",
    "for vec in [a,b,c]:\n",
    "    print(q.dot(vec), end=\" \")"
   ]
  },
  {
   "cell_type": "markdown",
   "metadata": {},
   "source": [
    "Or, you could pack all of $a,b,c$ into the rows of matrix $$V = \\begin{bmatrix}1&0&1\\\\0&-1&2\\\\3&2&-4\\\\-1&3&5\\end{bmatrix}$$\n",
    "and multiply $V$ by $\\vec{q}$"
   ]
  },
  {
   "cell_type": "code",
   "execution_count": null,
   "metadata": {},
   "outputs": [],
   "source": [
    "V = np.array([a,b,c])\n",
    "print(V @ q)"
   ]
  },
  {
   "cell_type": "markdown",
   "metadata": {},
   "source": [
    "We can perform a larger scale test to more concretely time the performance of matrix multiplication. We will create a set of 15000 vectors with 100 entries each, and then use each method to compare their speed (the first time will be slow due to intialization, but subsequent iterations will show the actual speedup):"
   ]
  },
  {
   "cell_type": "code",
   "execution_count": null,
   "metadata": {},
   "outputs": [],
   "source": [
    "from time import perf_counter\n",
    "vecs = np.random.rand(15000,100)\n",
    "q = np.random.rand(100)\n",
    "# Method 1: Loop\n",
    "ans = []\n",
    "method_one_start = perf_counter()\n",
    "for vec in vecs:\n",
    "    ans.append(vec.dot(q))\n",
    "method_one_stop = perf_counter()\n",
    "# Method 2: Matrix Multiplication\n",
    "method_two_start = perf_counter()\n",
    "ans = vecs @ q\n",
    "method_two_stop = perf_counter()\n",
    "# Analysis\n",
    "method_one_elapsed = method_one_stop - method_one_start\n",
    "method_two_elapsed = method_two_stop - method_two_start\n",
    "speedup = method_one_elapsed/method_two_elapsed * 100\n",
    "print(f\"Method 1 Elapsed Time: {method_one_elapsed}\")\n",
    "print(f\"Method 2 Elapsed Time: {method_two_elapsed}\")\n",
    "print(f\"Speedup: {speedup} times\")"
   ]
  },
  {
   "cell_type": "markdown",
   "metadata": {},
   "source": [
    "You should see speedups using matrix multiplication of a fairly large factor, the highest we observed was by a factor of 1668!"
   ]
  },
  {
   "cell_type": "markdown",
   "metadata": {},
   "source": [
    "#### Tranpose\n",
    "The tranpose of a matrix $A$ is another matrix $B$ whose rows and columns are flipped. For example, the tranpose of $$A = \\begin{bmatrix}0.5&5&4\\\\1&4&3\\\\2&3.5&2\\\\5&4.5&5\\end{bmatrix}$$\n",
    "is\n",
    "$$B = A^T = \\begin{bmatrix}0.5&1&2&5\\\\5&4&3.5&4.5\\\\4&3&2&5\\end{bmatrix}$$"
   ]
  },
  {
   "cell_type": "markdown",
   "metadata": {},
   "source": [
    "In Numpy, you can call the `.T` property of any matrix to obtain its tranpose."
   ]
  },
  {
   "cell_type": "code",
   "execution_count": null,
   "metadata": {},
   "outputs": [],
   "source": [
    "a = np.array([[0.5,5,4],[1,4,3],[2,3.5,2],[5,4.5,5]])\n",
    "print(f\"A = \\n{a}\")\n",
    "print(f\"A Tranpose = \\n{a.T}\")"
   ]
  },
  {
   "cell_type": "markdown",
   "metadata": {},
   "source": [
    "## Next Steps\n",
    "Here are some links you should check out to further understand many of the Numpy related linear algebra concepts:\n",
    "- [Numpy Intro Tutorial](https://numpy.org/doc/stable/user/absolute_beginners.html) - Covers most of what we did and more\n",
    "- [An article on some of Numpy's memory related speedups](https://medium.com/swlh/numpy-why-is-it-so-fast-8087f4da4d79)\n",
    "    - Take EECS 370 to learn more about how to speedup memory operations!\n",
    "- [Why is Numpy so fast (in their own words)](https://numpy.org/doc/stable/user/whatisnumpy.html#why-is-numpy-fast)\n",
    "\n",
    "Most importantly, take a linear algebra class! You will learn about vectors, matrices, and their operations in a whole lot more detail, and study the fascinating theory that underlies these objects! Here some of the offerings at UM (taken from the CSE/Data Science Requirements):\n",
    "- Math 214\n",
    "- Math 217\n",
    "- Math 417\n",
    "- Math 419\n",
    "- Robotics 101"
   ]
  }
 ],
 "metadata": {
  "interpreter": {
   "hash": "b2c451bc85bb0ced6a55d0a4be54636bf64a73412d6d07082eec9d62daf3017b"
  },
  "kernelspec": {
   "display_name": "Python 3.8.10 ('venv': venv)",
   "language": "python",
   "name": "python3"
  },
  "language_info": {
   "codemirror_mode": {
    "name": "ipython",
    "version": 3
   },
   "file_extension": ".py",
   "mimetype": "text/x-python",
   "name": "python",
   "nbconvert_exporter": "python",
   "pygments_lexer": "ipython3",
   "version": "3.8.10"
  },
  "orig_nbformat": 4
 },
 "nbformat": 4,
 "nbformat_minor": 2
}

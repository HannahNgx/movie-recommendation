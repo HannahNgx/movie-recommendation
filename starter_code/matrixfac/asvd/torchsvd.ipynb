{
 "cells": [
  {
   "cell_type": "markdown",
   "metadata": {},
   "source": [
    "# Pytorch Driven SVD"
   ]
  },
  {
   "cell_type": "code",
   "execution_count": 3,
   "metadata": {},
   "outputs": [],
   "source": [
    "import torch\n",
    "import numpy as np\n",
    "import seaborn as sns\n",
    "import pandas as pd\n",
    "from tqdm import tqdm\n",
    "from random import randint\n",
    "\n",
    "sns.set_theme()"
   ]
  },
  {
   "cell_type": "markdown",
   "metadata": {},
   "source": [
    "While we've implemented and trained our own version of ASVD, this implementation struggles from two major problems:\n",
    "1. Speed - Numpy arrays are fairly optimized, but calculating gradients manually still takes a while\n",
    "2. Flexibility - We have to manually recalculate gradients every time a new change is made to the model infrastructure. This becomes extremely difficult with more complicated loss functions and transforms.\n",
    "\n",
    "Pytorch solves these problem by allowing **automatic differentiation** through the `autograd` library. This means that whenever two vectors or matrices have some computation performed on them, Pytorch tracks their values and gradients behind the scenes. Then when the gradients need to be calculated for parameters, an algorithm called **backpropagation** is utilized to \"backpropagate\" the derivatives through all computations tracked."
   ]
  },
  {
   "cell_type": "markdown",
   "metadata": {},
   "source": [
    "Note that in order to run the model now, you will have to install Pytorch. This can be done using the command below:\n",
    "```bash\n",
    "pip install torch\n",
    "```"
   ]
  },
  {
   "cell_type": "markdown",
   "metadata": {},
   "source": [
    "Additionally, to get the most up to date file, you will need to obtain the `data4_01.csv` file from our Google Drive folder. This contains not only all the MovieLens data, but extra metadata parsed from IMDb, plus a fixed index mapping from utility matrix indices for movies and the movies in the dataset. When done, type in the directory to this csv file below:"
   ]
  },
  {
   "cell_type": "code",
   "execution_count": null,
   "metadata": {},
   "outputs": [],
   "source": [
    "path_to_new_data = None"
   ]
  },
  {
   "cell_type": "markdown",
   "metadata": {},
   "source": [
    "## Implementation"
   ]
  },
  {
   "cell_type": "markdown",
   "metadata": {},
   "source": [
    "Below is the implementation of the Asymmetric SVD that we've used so far using Pytorch's `nn.Module` class."
   ]
  },
  {
   "cell_type": "code",
   "execution_count": 4,
   "metadata": {},
   "outputs": [],
   "source": [
    "class ASVD(torch.nn.Module):\n",
    "    def __init__(self, num_movies, latent_dim=10):\n",
    "        super().__init__()\n",
    "        self.Z = torch.nn.Parameter(torch.randn((num_movies, latent_dim)))\n",
    "        self.V = torch.nn.Parameter(torch.randn((num_movies, latent_dim)))\n",
    "        self.item_bias = torch.nn.Parameter(torch.zeros(num_movies,))\n",
    "        self.rsoftmax = torch.nn.Softmax(dim=1)\n",
    "\n",
    "    def forward(self, R):\n",
    "        return self.rsoftmax(R @ self.Z) @ self.V.T + self.item_bias"
   ]
  },
  {
   "cell_type": "markdown",
   "metadata": {},
   "source": [
    "Some notes about the implementation:\n",
    "- Pytorch uses the `tensor` class inplace of the regular numpy `ndarray` that has been used so far. Practically, there is very limited difference, at least in the scope of this project.\n",
    "- Pytorch has a class `nn.Module` that simulates an abstract machine learning model. It has two key features:\n",
    "    - It stores model parameters that are initialized using `__init__`\n",
    "    - It processes input predictions using the `forward` function\n",
    "- The `nn.Parameter` class is used to register $Z$, $V$, and the item bias so that these weights can be saved and loaded from file. This means training is only needed once, and then only model weights are necessary to operate the model."
   ]
  },
  {
   "cell_type": "markdown",
   "metadata": {},
   "source": [
    "There are two key design choices that are of note:\n",
    "\n",
    "### Item Bias\n",
    "We discussed earlier the importance of a global mean in helping predict new ratings. An item bias works in a similar way - by training a bias term for each movie, the model learns some offsetting factor *per movie* that enables the model to better predict new ratings. Unlike a global mean however, this is learned in the same way $Z$ and $V$ are - through gradient descent.\n",
    "\n",
    "### Softmax\n",
    "We softmax the matrix product $RZ \\in \\mathbb{R}^{n \\times k}$ unlike the regular implementation of ASVD. The softmax function is described as an operation on a vector $\\vec{x} \\in \\mathbb{R}^n$ such that $$\\text{softmax}(\\vec{x}) = \\frac{[e^{x_1}, e^{x_2}, \\dots, e^{x_n}]}{\\sum_{i=1}^n e^{x_i}}$$ which converts the vector into a normalized distribution of scores. In the implementation above, this operation to applies to each row of the $RZ$ matrix.\n",
    "\n",
    "Why apply softmax? Recall $RZ \\approx U$ where $U$ is the original user latent factor matrix in the vanilla implementation of Matrix Factorization recommender systems. However, there are two issues in this case:\n",
    "- $R$ is generally a sparse matrix, making $U$ dependant on only a few entries in $R$ and $Z$. This means that our latent factor representation of users has missing information which fails to capture all the tendencies of the underlying user. By performing softmax on each row of $RZ$, each entry will be given some nonzero value that can actually be utilized in conjuction with the less sparse $V$ to produce good output predictions\n",
    "- Without softmax, the magnitude of the predicted rating depended directly on the magnitude of the latent factors. However in asymmetric SVD the magnitude of the latent factors for $U$ depend directly on the ratings in $R$. This meant that users with more ratings would tend to receive a higher predicted value on average. This dependence makes inference time rankings highly variable. By applying softmax to $RZ \\approx U$, all latent factors are essentially normalized into $[0,1]$, reducing the influence of rating density on predicted rating.\n",
    "\n",
    "These are our hypothesis for exactly why softmax works better on this dataset."
   ]
  },
  {
   "cell_type": "markdown",
   "metadata": {},
   "source": [
    "## Training"
   ]
  },
  {
   "cell_type": "markdown",
   "metadata": {},
   "source": [
    "NOTE: Feel free to skip training if you are just reading through the notebook and make sure to run the cell that loads the pretrained model from file."
   ]
  },
  {
   "cell_type": "markdown",
   "metadata": {},
   "source": [
    "First step is to obtain the training and testing data"
   ]
  },
  {
   "cell_type": "code",
   "execution_count": 8,
   "metadata": {},
   "outputs": [],
   "source": [
    "df = pd.read_csv('../../../data/user_rating_matrix.csv', index_col=0)\n",
    "movies = pd.read_csv('../../../data/ml-latest-small/movies.csv')\n",
    "cleanedmovies = pd.read_csv(path_to_new_data)\n",
    "df.columns.name = df.index.name\n",
    "df.index.name = 'title'\n",
    "R = torch.from_numpy(df.to_numpy().T).to(torch.float32)\n",
    "train = R[:500]\n",
    "test = R[500:]"
   ]
  },
  {
   "cell_type": "markdown",
   "metadata": {},
   "source": [
    "Below is the training loop applied to train the model. Note the modular design of the optimization algorithm (AdamW, which is similar to SGD), loss function (MSE), and model. This separation is made easy through Pytorch. Visit [this](https://pytorch.org/tutorials/beginner/introyt/trainingyt.html) link to learn in greater detail what each of the steps below actually mean"
   ]
  },
  {
   "cell_type": "code",
   "execution_count": 227,
   "metadata": {},
   "outputs": [
    {
     "name": "stderr",
     "output_type": "stream",
     "text": [
      "100%|██████████| 10000/10000 [18:35<00:00,  8.97it/s]\n"
     ]
    }
   ],
   "source": [
    "model = ASVD(9719, latent_dim=100)\n",
    "optimizer = torch.optim.AdamW(model.parameters(), lr=1e-2, weight_decay=1e-1)\n",
    "loss_fn = torch.nn.MSELoss()\n",
    "B = train.shape[0]\n",
    "train_loss, test_loss = [], []\n",
    "\n",
    "\n",
    "for i in tqdm(range(10000)):\n",
    "    optimizer.zero_grad()\n",
    "    indices = torch.randint(0, B, (128,))\n",
    "    batched_inputs = train[indices]\n",
    "    pred = model(batched_inputs)\n",
    "    l = loss_fn(pred, batched_inputs)\n",
    "    l.backward()\n",
    "    optimizer.step()\n",
    "\n",
    "    train_loss.append(l.item())\n",
    "    with torch.no_grad():\n",
    "        val = model(test)\n",
    "        vl = loss_fn(val, test)\n",
    "        test_loss.append(vl.item())"
   ]
  },
  {
   "cell_type": "markdown",
   "metadata": {},
   "source": [
    "Below are the loss curves from the training procedure. An interesting fact to note is the slight overfitting observed even with a large weight decay factor, as the test loss curve exceeds the training loss curve for the last few iterations. This suggests further regularization is needed. However, as the overfitting is not excessive, test set results are anticipated to be of good quality."
   ]
  },
  {
   "cell_type": "code",
   "execution_count": 228,
   "metadata": {},
   "outputs": [
    {
     "data": {
      "text/plain": [
       "<AxesSubplot:>"
      ]
     },
     "execution_count": 228,
     "metadata": {},
     "output_type": "execute_result"
    },
    {
     "data": {
      "image/png": "[encoded data removed]",
      "text/plain": [
       "<Figure size 432x288 with 1 Axes>"
      ]
     },
     "metadata": {},
     "output_type": "display_data"
    }
   ],
   "source": [
    "losses = pd.DataFrame({\"training_loss\":train_loss, \"testing_loss\":test_loss})\n",
    "sns.lineplot(data=losses)"
   ]
  },
  {
   "cell_type": "markdown",
   "metadata": {},
   "source": [
    "## Sanity Check"
   ]
  },
  {
   "cell_type": "markdown",
   "metadata": {},
   "source": [
    "While the loss being at about ~0.2 is a good sign of a decent prediction performance, it is useful to qualitatively analyze the results of the model to understand if the results are meaningful to the human eye."
   ]
  },
  {
   "cell_type": "markdown",
   "metadata": {},
   "source": [
    "NOTE: If you didn't run the training above, run the cell directly below to load the pretrained model weights."
   ]
  },
  {
   "cell_type": "code",
   "execution_count": 5,
   "metadata": {},
   "outputs": [
    {
     "data": {
      "text/plain": [
       "<All keys matched successfully>"
      ]
     },
     "execution_count": 5,
     "metadata": {},
     "output_type": "execute_result"
    }
   ],
   "source": [
    "model = ASVD(num_movies=9719, latent_dim=100)\n",
    "model.load_state_dict(torch.load(\"./torchsvd.pt\"))"
   ]
  },
  {
   "cell_type": "code",
   "execution_count": 6,
   "metadata": {},
   "outputs": [],
   "source": [
    "def get_predictions(index, model):\n",
    "    preds = model(test[index].view(1,-1)).squeeze()\n",
    "    top_k = torch.argsort(preds, descending=True)\n",
    "    actual = torch.argsort(test[index], descending=True).squeeze()\n",
    "    return actual, top_k\n",
    "\n",
    "def print_k(iterable, k):\n",
    "    for idx in iterable[:k]:\n",
    "        title = cleanedmovies[cleanedmovies[\"cleaned_mov_id\"] == idx.item()][\"title\"].item()\n",
    "        genre = movies[movies[\"title\"] == title][\"genres\"].to_numpy()[0]\n",
    "        print(f\"{title:<75} │ {genre:<25}\")\n",
    "    "
   ]
  },
  {
   "cell_type": "code",
   "execution_count": 16,
   "metadata": {},
   "outputs": [],
   "source": [
    "index = randint(0,100)\n",
    "actual, top_k = get_predictions(index, model)"
   ]
  },
  {
   "cell_type": "markdown",
   "metadata": {},
   "source": [
    "Below are the top 10 movies the user actually rated"
   ]
  },
  {
   "cell_type": "code",
   "execution_count": 17,
   "metadata": {},
   "outputs": [
    {
     "name": "stdout",
     "output_type": "stream",
     "text": [
      "Star Wars: Episode V - The Empire Strikes Back (1980)                       │ Action|Adventure|Sci-Fi  \n",
      "12 Angry Men (1957)                                                         │ Drama                    \n",
      "2001: A Space Odyssey (1968)                                                │ Adventure|Drama|Sci-Fi   \n",
      "Casablanca (1942)                                                           │ Drama|Romance            \n",
      "Some Like It Hot (1959)                                                     │ Comedy|Crime             \n",
      "Planet of the Apes (1968)                                                   │ Action|Drama|Sci-Fi      \n",
      "Snow White and the Seven Dwarfs (1937)                                      │ Animation|Children|Drama|Fantasy|Musical\n",
      "Wizard of Oz, The (1939)                                                    │ Adventure|Children|Fantasy|Musical\n",
      "Miracle on 34th Street (1947)                                               │ Comedy|Drama             \n",
      "Lord of the Rings: The Two Towers, The (2002)                               │ Adventure|Fantasy        \n"
     ]
    }
   ],
   "source": [
    "print_k(actual, 10)"
   ]
  },
  {
   "cell_type": "markdown",
   "metadata": {},
   "source": [
    "Below are the top 20 movies recommended by the algorithm to the user"
   ]
  },
  {
   "cell_type": "code",
   "execution_count": 18,
   "metadata": {},
   "outputs": [
    {
     "name": "stdout",
     "output_type": "stream",
     "text": [
      "Toy Story 2 (1999)                                                          │ Adventure|Animation|Children|Comedy|Fantasy\n",
      "E.T. the Extra-Terrestrial (1982)                                           │ Children|Drama|Sci-Fi    \n",
      "Shrek (2001)                                                                │ Adventure|Animation|Children|Comedy|Fantasy|Romance\n",
      "Beauty and the Beast (1991)                                                 │ Animation|Children|Fantasy|Musical|Romance|IMAX\n",
      "Wizard of Oz, The (1939)                                                    │ Adventure|Children|Fantasy|Musical\n",
      "Sound of Music, The (1965)                                                  │ Musical|Romance          \n",
      "Mary Poppins (1964)                                                         │ Children|Comedy|Fantasy|Musical\n",
      "West Side Story (1961)                                                      │ Drama|Musical|Romance    \n",
      "Lion King, The (1994)                                                       │ Adventure|Animation|Children|Drama|Musical|IMAX\n",
      "Toy Story (1995)                                                            │ Adventure|Animation|Children|Comedy|Fantasy\n",
      "Chicken Run (2000)                                                          │ Animation|Children|Comedy\n",
      "Singin' in the Rain (1952)                                                  │ Comedy|Musical|Romance   \n",
      "Forrest Gump (1994)                                                         │ Comedy|Drama|Romance|War \n",
      "Babe (1995)                                                                 │ Children|Drama           \n",
      "Men in Black (a.k.a. MIB) (1997)                                            │ Action|Comedy|Sci-Fi     \n",
      "Aladdin (1992)                                                              │ Adventure|Animation|Children|Comedy|Musical\n",
      "Jumanji (1995)                                                              │ Adventure|Children|Fantasy\n",
      "Raiders of the Lost Ark (Indiana Jones and the Raiders of the Lost Ark) (1981) │ Action|Adventure         \n",
      "Perfect Storm, The (2000)                                                   │ Drama|Thriller           \n",
      "Willy Wonka & the Chocolate Factory (1971)                                  │ Children|Comedy|Fantasy|Musical\n"
     ]
    }
   ],
   "source": [
    "print_k(top_k, 20)"
   ]
  },
  {
   "cell_type": "markdown",
   "metadata": {},
   "source": [
    "If you run the cells above multiple times, you will notice a slight problem - the same few movies tend to be recommended more often than not. This is likely caused by the **long tail problem**. Many more people have watched and highly rated movies like *The Dark Knight* than movies like *Elite Squad*. As a result, the recommender system is more likely to identify the former as a movie that a user is more likely to watch. There is no easy solution for the long tail problem, which requires careful inspection and methodology (that which we don't have time for)."
   ]
  },
  {
   "cell_type": "markdown",
   "metadata": {},
   "source": [
    "## Latent Space Analysis"
   ]
  },
  {
   "cell_type": "markdown",
   "metadata": {},
   "source": [
    "By looking at the top ranked movies in each latent dimension, some intuition about those movies can be extracted."
   ]
  },
  {
   "cell_type": "code",
   "execution_count": 244,
   "metadata": {},
   "outputs": [
    {
     "name": "stdout",
     "output_type": "stream",
     "text": [
      "Net, The (1995)                                                             │ Action|Crime|Thriller    \n",
      "Babe (1995)                                                                 │ Children|Drama           \n",
      "Wallace & Gromit: A Close Shave (1995)                                      │ Animation|Children|Comedy\n",
      "Boot, Das (Boat, The) (1981)                                                │ Action|Drama|War         \n",
      "No Country for Old Men (2007)                                               │ Crime|Drama              \n",
      "Inland Empire (2006)                                                        │ Drama|Mystery|Thriller   \n",
      "Alphaville (Alphaville, une étrange aventure de Lemmy Caution) (1965)       │ Drama|Mystery|Romance|Sci-Fi|Thriller\n",
      "Bad Boy Bubby (1993)                                                        │ Drama                    \n",
      "Topo, El (1970)                                                             │ Fantasy|Western          \n",
      "Easy Rider (1969)                                                           │ Adventure|Drama          \n",
      "Antichrist (2009)                                                           │ Drama|Fantasy            \n",
      "Ninth Gate, The (1999)                                                      │ Fantasy|Horror|Mystery|Thriller\n",
      "Moon (2009)                                                                 │ Drama|Mystery|Sci-Fi|Thriller\n",
      "Leaving Las Vegas (1995)                                                    │ Drama|Romance            \n",
      "Unbearable Lightness of Being, The (1988)                                   │ Drama                    \n",
      "Eraserhead (1977)                                                           │ Drama|Horror             \n",
      "Death Proof (2007)                                                          │ Action|Adventure|Crime|Horror|Thriller\n",
      "Dogville (2003)                                                             │ Drama|Mystery|Thriller   \n",
      "Night of the Hunter, The (1955)                                             │ Drama|Film-Noir|Thriller \n",
      "Hitchhiker's Guide to the Galaxy, The (2005)                                │ Adventure|Comedy|Sci-Fi  \n",
      "Collateral (2004)                                                           │ Action|Crime|Drama|Thriller\n",
      "Showgirls (1995)                                                            │ Drama                    \n",
      "Green Street Hooligans (a.k.a. Hooligans) (2005)                            │ Crime|Drama              \n",
      "Andalusian Dog, An (Chien andalou, Un) (1929)                               │ Fantasy                  \n",
      "Catch Me If You Can (2002)                                                  │ Crime|Drama              \n"
     ]
    }
   ],
   "source": [
    "top = model.Z[:,1].argsort(descending=True)\n",
    "print_k(top, 25)"
   ]
  },
  {
   "cell_type": "markdown",
   "metadata": {},
   "source": [
    "For example, the model observed that the movie above tended to be related in some fashion, and so were ranked highly in their respect latent space dimension. A starting hypothesis from the limited sample here suggests that movies of the genre *Drama* are more heavily represented. It is more likely though there is a more subtle relationship that is less interpretable by human observers.\n",
    "\n",
    "Some suggested analysis steps are:\n",
    "- Look at the distribution of genres among highly scoring movies per latent space dimension\n",
    "- Look at the distribution of years among highly scoring movies per latent space dimension\n",
    "- There is alot of other metadata stored in the `data4_01.csv` file (stored in our Google Drive folder) - study the relationships between that metadata and the movies in each latent space.\n",
    "\n",
    "Try drawing conclusions from your observations here!"
   ]
  },
  {
   "cell_type": "markdown",
   "metadata": {},
   "source": [
    "## Save Model"
   ]
  },
  {
   "cell_type": "markdown",
   "metadata": {},
   "source": [
    "To use the model for later inference, we will save the model dictionary to file."
   ]
  },
  {
   "cell_type": "code",
   "execution_count": 245,
   "metadata": {},
   "outputs": [],
   "source": [
    "torch.save(model.state_dict(), \"./torchsvd.pt\")"
   ]
  },
  {
   "cell_type": "markdown",
   "metadata": {},
   "source": [
    "Then to reload the model, it suffices to run the following code block (make sure the settings for `num_movies` and `latent_dim` are exactly the same!)"
   ]
  },
  {
   "cell_type": "code",
   "execution_count": null,
   "metadata": {},
   "outputs": [],
   "source": [
    "model = ASVD(num_movies=9719, latent_dim=100)\n",
    "model.load_state_dict(torch.load(\"./torchsvd.pt\"))"
   ]
  }
 ],
 "metadata": {
  "interpreter": {
   "hash": "b2c451bc85bb0ced6a55d0a4be54636bf64a73412d6d07082eec9d62daf3017b"
  },
  "kernelspec": {
   "display_name": "Python 3.8.10 ('venv': venv)",
   "language": "python",
   "name": "python3"
  },
  "language_info": {
   "codemirror_mode": {
    "name": "ipython",
    "version": 3
   },
   "file_extension": ".py",
   "mimetype": "text/x-python",
   "name": "python",
   "nbconvert_exporter": "python",
   "pygments_lexer": "ipython3",
   "version": "3.8.10"
  },
  "orig_nbformat": 4
 },
 "nbformat": 4,
 "nbformat_minor": 2
}

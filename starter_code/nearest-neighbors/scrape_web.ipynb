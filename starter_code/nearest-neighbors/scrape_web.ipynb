{
 "cells": [
  {
   "cell_type": "code",
   "execution_count": 19,
   "metadata": {},
   "outputs": [],
   "source": [
    "import requests\n",
    "from bs4 import BeautifulSoup\n",
    "\n",
    "imdb_num = '0848228' # avengers\n",
    "# imdb_num = '0120915' # star wars \n",
    "page = requests.get(f\"https://www.imdb.com/title/tt{imdb_num}/\") # Replace with other imdb link\n",
    "soup = BeautifulSoup(page.content, 'html.parser')\n"
   ]
  },
  {
   "cell_type": "code",
   "execution_count": 17,
   "metadata": {},
   "outputs": [],
   "source": [
    "def split_size(timestring):\n",
    "    splits = timestring.split()\n",
    "    return len(splits)\n",
    "\n",
    "def string_to_minutes(timestring):\n",
    "    # 1h 48m\n",
    "    # 2h 03,\n",
    "    if split_size(timestring) == 2:\n",
    "        hours, mins = timestring.split()\n",
    "        if (hours[-1] == 'm'): return int(mins[-3:-1]) # if only minutes runtime\n",
    "        return int(hours[-2]) * 60 + int(mins[-3:-1])\n",
    "    else:\n",
    "        irrelevant1, irrelevant2, pre_hours, mins = timestring.split()\n",
    "        splitat = 5\n",
    "        irrelevant3, hours = pre_hours[:splitat], pre_hours[splitat:]\n",
    "        if (hours[-1] == 'm'): return int(mins[-3:-1]) # if only minutes runtime\n",
    "        return int(hours[-2]) * 60 + int(mins[-3:-1])"
   ]
  },
  {
   "cell_type": "code",
   "execution_count": 20,
   "metadata": {},
   "outputs": [],
   "source": [
    "# some things you can scrape\n",
    "year = soup.find_all(class_='sc-52284603-2 iTRONr')[0].get_text() # year\n",
    "imdb_rating = soup.find_all(class_='sc-7ab21ed2-1 jGRxWM')[1].get_text() # rating from imdb\n",
    "# meta_rating = soup.find_all(class_='score-meta')[0].get_text() # metascore (not always on the page)\n",
    "top_10_cast = [x.get_text() for ind, x in \\\n",
    "               enumerate(soup.find_all(\n",
    "    class_='ipc-metadata-list-item__list-content-item ipc-metadata-list-item__list-content-item--link'))\\\n",
    "               if ind < 10] # actually director, writer, cast members\n",
    "\n",
    "# runtime = [(ind, x.get_text()) for ind, x in enumerate(soup.find_all(class_='ipc-inline-list__item'))]\n",
    "runtime = [(ind, x.get_text()) for ind, x in enumerate(soup.find_all(class_='ipc-inline-list ipc-inline-list--show-dividers sc-52284603-0 blbaZJ baseAlt'))]\n",
    "runtime = string_to_minutes(soup.find(class_='ipc-inline-list ipc-inline-list--show-dividers sc-52284603-0 blbaZJ baseAlt').get_text())\n",
    "\n"
   ]
  },
  {
   "cell_type": "code",
   "execution_count": 21,
   "metadata": {},
   "outputs": [
    {
     "name": "stdout",
     "output_type": "stream",
     "text": [
      "2012 year\n",
      "8.1 imdb rating\n",
      "['Joss Whedon', 'Joss Whedon', 'Zak Penn', 'Robert Downey Jr.', 'Chris Evans', 'Scarlett Johansson', 'Joss Whedon', 'Joss Whedon', 'Zak Penn', 'Robert Downey Jr.'] top 10 cast/director/writer\n",
      "143 runtime(minutes)\n"
     ]
    }
   ],
   "source": [
    "print(year, \"year\")\n",
    "print(imdb_rating, \"imdb rating\")\n",
    "print(top_10_cast, \"top 10 cast/director/writer\")\n",
    "print(runtime, \"runtime(minutes)\")"
   ]
  },
  {
   "cell_type": "code",
   "execution_count": 5,
   "metadata": {},
   "outputs": [
    {
     "data": {
      "text/plain": [
       "'\\nimplement these webscraping functions (or implement your own) \\nand modify this code for it to work over all of the movies) \\nadd your newly made data to dataset (just make a new file in the data section!\\n'"
      ]
     },
     "execution_count": 5,
     "metadata": {},
     "output_type": "execute_result"
    }
   ],
   "source": [
    "'''\n",
    "implement these webscraping functions (or implement your own) \n",
    "and modify this code for it to work over all of the movies) \n",
    "add your newly made data to dataset (just make a new file in the data section!\n",
    "'''"
   ]
  },
  {
   "cell_type": "code",
   "execution_count": null,
   "metadata": {},
   "outputs": [],
   "source": []
  },
  {
   "cell_type": "code",
   "execution_count": null,
   "metadata": {},
   "outputs": [],
   "source": []
  }
 ],
 "metadata": {
  "interpreter": {
   "hash": "40d3a090f54c6569ab1632332b64b2c03c39dcf918b08424e98f38b5ae0af88f"
  },
  "kernelspec": {
   "display_name": "Python 3",
   "language": "python",
   "name": "python3"
  },
  "language_info": {
   "codemirror_mode": {
    "name": "ipython",
    "version": 3
   },
   "file_extension": ".py",
   "mimetype": "text/x-python",
   "name": "python",
   "nbconvert_exporter": "python",
   "pygments_lexer": "ipython3",
   "version": "3.8.3"
  }
 },
 "nbformat": 4,
 "nbformat_minor": 2
}

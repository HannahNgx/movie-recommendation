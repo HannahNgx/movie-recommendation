{
 "cells": [
  {
   "cell_type": "code",
   "execution_count": null,
   "metadata": {},
   "outputs": [],
   "source": [
    "import numpy as np\n",
    "import pandas as pd"
   ]
  },
  {
   "cell_type": "markdown",
   "metadata": {},
   "source": [
    "Your goal: Create a utility matrix $R$ from our dataset. That is, you should create a matrix whose\n",
    "- rows correspond to users in the dataset by their user ID (ex. user 1 corresponds to row 0)\n",
    "- columns correspond to movies by their item ID (ex. movie 3 corresponds to column 2)\n",
    "\n",
    "and each entry $r_{ij}$ holds the rating which user $i$ has given to movie $j$."
   ]
  },
  {
   "cell_type": "markdown",
   "metadata": {},
   "source": [
    "Some tips:\n",
    "- This utility matrix will be mostly empty, so you should probably create the matrix manually, and then find a way to fill in the entries\n",
    "- You will need to clean the data beforehand to remove extraneous entries from the dataset. Some things to look out for are\n",
    "    - The presence of null values (null, NaN) - if you see these, you probably want to drop these data entries from the dataset\n",
    "    - Information you deem to be noisy (for example, one possible genre for movies are \"no genre listed\". Do you think movies in this genre could provide any meaningful information?) - removing sources of noise can help increase the ability for our recommender systems to learn good relationships"
   ]
  },
  {
   "cell_type": "markdown",
   "metadata": {},
   "source": [
    "The final matrix should be a Numpy Matrix of the class `np.array`. Save this array to the data directory under `./data/ml-latest-small/utility_matrix.npy` using the `np.save()` function. "
   ]
  },
  {
   "cell_type": "code",
   "execution_count": null,
   "metadata": {},
   "outputs": [],
   "source": [
    "ratings = pd.read_csv(\"../data/ml-latest-small/ratings.csv\")"
   ]
  }
 ],
 "metadata": {
  "interpreter": {
   "hash": "b2c451bc85bb0ced6a55d0a4be54636bf64a73412d6d07082eec9d62daf3017b"
  },
  "kernelspec": {
   "display_name": "Python 3.8.10 ('venv': venv)",
   "language": "python",
   "name": "python3"
  },
  "language_info": {
   "codemirror_mode": {
    "name": "ipython",
    "version": 3
   },
   "file_extension": ".py",
   "mimetype": "text/x-python",
   "name": "python",
   "nbconvert_exporter": "python",
   "pygments_lexer": "ipython3",
   "version": "3.8.10"
  },
  "orig_nbformat": 4
 },
 "nbformat": 4,
 "nbformat_minor": 2
}
